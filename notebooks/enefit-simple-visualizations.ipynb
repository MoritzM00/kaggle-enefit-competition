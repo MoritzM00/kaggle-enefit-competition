{
 "cells": [
  {
   "cell_type": "markdown",
   "id": "0",
   "metadata": {
    "papermill": {
     "duration": 0.005977,
     "end_time": "2023-12-02T18:22:35.493077",
     "exception": false,
     "start_time": "2023-12-02T18:22:35.487100",
     "status": "completed"
    },
    "tags": []
   },
   "source": [
    "# Enefit - Simple Timeseries Visualizations with Seaborn"
   ]
  },
  {
   "cell_type": "code",
   "execution_count": null,
   "id": "1",
   "metadata": {
    "papermill": {
     "duration": 1.79064,
     "end_time": "2023-12-02T18:22:37.290888",
     "exception": false,
     "start_time": "2023-12-02T18:22:35.500248",
     "status": "completed"
    },
    "tags": []
   },
   "outputs": [],
   "source": [
    "import matplotlib.pyplot as plt\n",
    "import pandas as pd\n",
    "import seaborn as sns\n",
    "\n",
    "sns.set_theme(\"notebook\")"
   ]
  },
  {
   "cell_type": "code",
   "execution_count": null,
   "id": "2",
   "metadata": {
    "papermill": {
     "duration": 0.013579,
     "end_time": "2023-12-02T18:22:37.309489",
     "exception": false,
     "start_time": "2023-12-02T18:22:37.295910",
     "status": "completed"
    },
    "tags": []
   },
   "outputs": [],
   "source": [
    "base_path = \"../data/\"\n",
    "client_path = base_path + \"client.csv\"\n",
    "gas_prices_path = base_path + \"gas_prices.csv\"\n",
    "train_path = base_path + \"train.csv\""
   ]
  },
  {
   "cell_type": "code",
   "execution_count": null,
   "id": "3",
   "metadata": {
    "papermill": {
     "duration": 3.499307,
     "end_time": "2023-12-02T18:22:40.813483",
     "exception": false,
     "start_time": "2023-12-02T18:22:37.314176",
     "status": "completed"
    },
    "tags": []
   },
   "outputs": [],
   "source": [
    "train = pd.read_csv(train_path, parse_dates=[\"datetime\"])"
   ]
  },
  {
   "cell_type": "code",
   "execution_count": null,
   "id": "4",
   "metadata": {
    "papermill": {
     "duration": 0.034675,
     "end_time": "2023-12-02T18:22:40.854584",
     "exception": false,
     "start_time": "2023-12-02T18:22:40.819909",
     "status": "completed"
    },
    "tags": []
   },
   "outputs": [],
   "source": [
    "train.info()"
   ]
  },
  {
   "cell_type": "code",
   "execution_count": null,
   "id": "5",
   "metadata": {
    "papermill": {
     "duration": 0.028554,
     "end_time": "2023-12-02T18:22:40.888032",
     "exception": false,
     "start_time": "2023-12-02T18:22:40.859478",
     "status": "completed"
    },
    "tags": []
   },
   "outputs": [],
   "source": [
    "train.head()"
   ]
  },
  {
   "cell_type": "code",
   "execution_count": null,
   "id": "6",
   "metadata": {
    "papermill": {
     "duration": 10.383644,
     "end_time": "2023-12-02T18:22:51.277030",
     "exception": false,
     "start_time": "2023-12-02T18:22:40.893386",
     "status": "completed"
    },
    "tags": []
   },
   "outputs": [],
   "source": [
    "sns.relplot(\n",
    "    train.query(\"prediction_unit_id < 4\"),\n",
    "    x=\"datetime\",\n",
    "    y=\"target\",\n",
    "    row=\"prediction_unit_id\",\n",
    "    col=\"is_consumption\",\n",
    "    kind=\"line\",\n",
    "    hue=\"is_business\",\n",
    ")"
   ]
  },
  {
   "cell_type": "code",
   "execution_count": null,
   "id": "7",
   "metadata": {
    "papermill": {
     "duration": 11.868234,
     "end_time": "2023-12-02T18:23:03.153025",
     "exception": false,
     "start_time": "2023-12-02T18:22:51.284791",
     "status": "completed"
    },
    "tags": []
   },
   "outputs": [],
   "source": [
    "sns.relplot(\n",
    "    train.query(\"is_consumption == 1 and prediction_unit_id < 9\"),\n",
    "    x=\"datetime\",\n",
    "    y=\"target\",\n",
    "    col=\"prediction_unit_id\",\n",
    "    kind=\"line\",\n",
    "    col_wrap=3,\n",
    "    hue=\"is_business\",\n",
    ")"
   ]
  },
  {
   "cell_type": "markdown",
   "id": "8",
   "metadata": {
    "papermill": {
     "duration": 0.009465,
     "end_time": "2023-12-02T18:23:03.172358",
     "exception": false,
     "start_time": "2023-12-02T18:23:03.162893",
     "status": "completed"
    },
    "tags": []
   },
   "source": [
    "# Rolling Averages"
   ]
  },
  {
   "cell_type": "code",
   "execution_count": null,
   "id": "9",
   "metadata": {
    "papermill": {
     "duration": 0.063523,
     "end_time": "2023-12-02T18:23:03.245970",
     "exception": false,
     "start_time": "2023-12-02T18:23:03.182447",
     "status": "completed"
    },
    "tags": []
   },
   "outputs": [],
   "source": [
    "subset = train.query(\"prediction_unit_id < 9\")"
   ]
  },
  {
   "cell_type": "code",
   "execution_count": null,
   "id": "10",
   "metadata": {
    "papermill": {
     "duration": 0.172351,
     "end_time": "2023-12-02T18:23:03.428639",
     "exception": false,
     "start_time": "2023-12-02T18:23:03.256288",
     "status": "completed"
    },
    "tags": []
   },
   "outputs": [],
   "source": [
    "sma = (\n",
    "    subset.groupby(\"prediction_unit_id\")[[\"target\", \"datetime\"]]\n",
    "    .rolling(window=\"5D\", on=\"datetime\")\n",
    "    .agg(\"mean\")\n",
    ")"
   ]
  },
  {
   "cell_type": "code",
   "execution_count": null,
   "id": "11",
   "metadata": {
    "papermill": {
     "duration": 6.14995,
     "end_time": "2023-12-02T18:23:09.588520",
     "exception": false,
     "start_time": "2023-12-02T18:23:03.438570",
     "status": "completed"
    },
    "tags": []
   },
   "outputs": [],
   "source": [
    "fig, axs = plt.subplots(3, 3, figsize=(15, 10))\n",
    "for (i, group), ax in zip(sma.groupby(\"prediction_unit_id\"), axs.flat):\n",
    "    sns.lineplot(\n",
    "        data=group.droplevel(0), x=\"datetime\", y=\"target\", ax=ax, estimator=None\n",
    "    )\n",
    "fig.autofmt_xdate(rotation=45)\n",
    "plt.tight_layout()\n",
    "plt.show()"
   ]
  },
  {
   "cell_type": "code",
   "execution_count": null,
   "id": "12",
   "metadata": {},
   "outputs": [],
   "source": []
  }
 ],
 "metadata": {
  "kaggle": {
   "accelerator": "none",
   "dataSources": [
    {
     "databundleVersionId": 7056256,
     "sourceId": 57236,
     "sourceType": "competition"
    }
   ],
   "dockerImageVersionId": 30587,
   "isGpuEnabled": false,
   "isInternetEnabled": true,
   "language": "python",
   "sourceType": "notebook"
  },
  "kernelspec": {
   "display_name": "Python 3",
   "language": "python",
   "name": "python3"
  },
  "language_info": {
   "codemirror_mode": {
    "name": "ipython",
    "version": 3
   },
   "file_extension": ".py",
   "mimetype": "text/x-python",
   "name": "python",
   "nbconvert_exporter": "python",
   "pygments_lexer": "ipython3",
   "version": "3.10.12"
  },
  "papermill": {
   "default_parameters": {},
   "duration": 38.220487,
   "end_time": "2023-12-02T18:23:10.323861",
   "environment_variables": {},
   "exception": null,
   "input_path": "__notebook__.ipynb",
   "output_path": "__notebook__.ipynb",
   "parameters": {},
   "start_time": "2023-12-02T18:22:32.103374",
   "version": "2.4.0"
  }
 },
 "nbformat": 4,
 "nbformat_minor": 5
}
